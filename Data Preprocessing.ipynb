{
 "cells": [
  {
   "cell_type": "code",
   "execution_count": 1,
   "metadata": {
    "scrolled": true
   },
   "outputs": [
    {
     "name": "stderr",
     "output_type": "stream",
     "text": [
      "Using TensorFlow backend.\n"
     ]
    }
   ],
   "source": [
    "import os \n",
    "import cv2\n",
    "import numpy as np\n",
    "from keras.utils import np_utils"
   ]
  },
  {
   "cell_type": "raw",
   "metadata": {},
   "source": [
    "for count, filename in enumerate(os.listdir(\"dataset/with_mask\")): \n",
    "    dst =\"With_Mask_\" + str(count+1) + \".jpg\"\n",
    "    src =\"dataset/with_mask/\"+ filename \n",
    "    dst =\"dataset/with_mask/\"+ dst \n",
    "    os.rename(src, dst) "
   ]
  },
  {
   "cell_type": "raw",
   "metadata": {},
   "source": [
    "for count, filename in enumerate(os.listdir(\"dataset/without_mask\")): \n",
    "    dst =\"Without_Mask_\" + str(count+1) + \".jpg\"\n",
    "    src =\"dataset/without_mask/\"+ filename \n",
    "    dst =\"dataset/without_mask/\"+ dst \n",
    "    os.rename(src, dst) "
   ]
  },
  {
   "cell_type": "code",
   "execution_count": 2,
   "metadata": {},
   "outputs": [
    {
     "name": "stdout",
     "output_type": "stream",
     "text": [
      "{'without_mask': 0, 'with_mask': 1}\n",
      "['without_mask', 'with_mask']\n",
      "[0, 1]\n"
     ]
    }
   ],
   "source": [
    "categories=os.listdir('dataset')\n",
    "labels=[i for i in range(len(categories))]\n",
    "\n",
    "label_dict=dict(zip(categories,labels))\n",
    "\n",
    "print(label_dict)\n",
    "print(categories)\n",
    "print(labels)"
   ]
  },
  {
   "cell_type": "code",
   "execution_count": 3,
   "metadata": {},
   "outputs": [],
   "source": [
    "img_size=100\n",
    "data=[]\n",
    "target=[]\n",
    "data_path='dataset'\n",
    "\n",
    "for category in categories:\n",
    "    folder_path=os.path.join(data_path,category)\n",
    "    img_names=os.listdir(folder_path)\n",
    "        \n",
    "    for img_name in img_names:\n",
    "        img_path=os.path.join(folder_path,img_name)\n",
    "        img=cv2.imread(img_path)\n",
    "\n",
    "        try:\n",
    "            gray=cv2.cvtColor(img,cv2.COLOR_BGR2GRAY)           \n",
    "            #Coverting the image into gray scale\n",
    "            \n",
    "            resized=cv2.resize(gray,(img_size,img_size))\n",
    "            #resizing the gray scale into 100x100, since we need a fixed common size for all the images in the dataset\n",
    "            \n",
    "            data.append(resized)\n",
    "            target.append(label_dict[category])\n",
    "            #appending the image and the label(categorized) into the list (dataset)\n",
    "\n",
    "        except Exception as e:\n",
    "            print('Exception:',e)\n",
    "            #if any exception rasied, the exception will be printed here. And pass to the next image"
   ]
  },
  {
   "cell_type": "code",
   "execution_count": 4,
   "metadata": {},
   "outputs": [],
   "source": [
    "data=np.array(data, dtype=float)"
   ]
  },
  {
   "cell_type": "code",
   "execution_count": 5,
   "metadata": {},
   "outputs": [],
   "source": [
    "#normalizing the pixel values between 0 and 1\n",
    "for k in range(len(data)):\n",
    "    data[k]/=data[k].max()"
   ]
  },
  {
   "cell_type": "code",
   "execution_count": 6,
   "metadata": {},
   "outputs": [
    {
     "data": {
      "text/plain": [
       "array([[[0.36585366, 0.37804878, 0.3902439 , ..., 0.12195122,\n",
       "         0.11788618, 0.11382114],\n",
       "        [0.33739837, 0.35365854, 0.3699187 , ..., 0.13414634,\n",
       "         0.13821138, 0.13414634],\n",
       "        [0.31300813, 0.33333333, 0.35365854, ..., 0.13821138,\n",
       "         0.14227642, 0.14634146],\n",
       "        ...,\n",
       "        [0.73170732, 0.72764228, 0.72357724, ..., 0.25609756,\n",
       "         0.26422764, 0.26829268],\n",
       "        [0.7195122 , 0.72357724, 0.72764228, ..., 0.26422764,\n",
       "         0.27642276, 0.28455285],\n",
       "        [0.72357724, 0.72764228, 0.73170732, ..., 0.28455285,\n",
       "         0.29674797, 0.30081301]],\n",
       "\n",
       "       [[0.63346614, 0.6374502 , 0.64541833, ..., 0.05179283,\n",
       "         0.05179283, 0.05577689],\n",
       "        [0.63346614, 0.63346614, 0.6374502 , ..., 0.05179283,\n",
       "         0.05577689, 0.05577689],\n",
       "        [0.62948207, 0.62948207, 0.62948207, ..., 0.04780876,\n",
       "         0.05179283, 0.05976096],\n",
       "        ...,\n",
       "        [0.58565737, 0.58565737, 0.58964143, ..., 0.24302789,\n",
       "         0.2310757 , 0.22310757],\n",
       "        [0.55378486, 0.55776892, 0.56175299, ..., 0.22310757,\n",
       "         0.21115538, 0.20717131],\n",
       "        [0.37051793, 0.37450199, 0.38247012, ..., 0.19521912,\n",
       "         0.18326693, 0.18326693]],\n",
       "\n",
       "       [[0.12980769, 0.125     , 0.125     , ..., 0.20673077,\n",
       "         0.1875    , 0.18269231],\n",
       "        [0.15384615, 0.15865385, 0.15865385, ..., 0.19711538,\n",
       "         0.17788462, 0.15384615],\n",
       "        [0.16346154, 0.16346154, 0.16826923, ..., 0.16826923,\n",
       "         0.15384615, 0.13942308],\n",
       "        ...,\n",
       "        [0.39903846, 0.38461538, 0.37019231, ..., 0.53846154,\n",
       "         0.53846154, 0.53846154],\n",
       "        [0.38942308, 0.37980769, 0.36538462, ..., 0.54326923,\n",
       "         0.54326923, 0.53846154],\n",
       "        [0.37980769, 0.36538462, 0.36057692, ..., 0.54326923,\n",
       "         0.54326923, 0.54326923]],\n",
       "\n",
       "       ...,\n",
       "\n",
       "       [[1.        , 1.        , 1.        , ..., 0.99607843,\n",
       "         0.99607843, 0.99607843],\n",
       "        [1.        , 1.        , 1.        , ..., 1.        ,\n",
       "         1.        , 1.        ],\n",
       "        [1.        , 1.        , 1.        , ..., 1.        ,\n",
       "         1.        , 1.        ],\n",
       "        ...,\n",
       "        [0.96078431, 0.96078431, 0.96078431, ..., 1.        ,\n",
       "         1.        , 1.        ],\n",
       "        [0.96862745, 0.96862745, 0.96470588, ..., 1.        ,\n",
       "         1.        , 1.        ],\n",
       "        [0.96862745, 0.96862745, 0.97254902, ..., 0.99215686,\n",
       "         0.99607843, 0.99607843]],\n",
       "\n",
       "       [[0.18972332, 0.20158103, 0.23715415, ..., 0.15019763,\n",
       "         0.15810277, 0.16205534],\n",
       "        [0.18577075, 0.19762846, 0.22529644, ..., 0.13438735,\n",
       "         0.14229249, 0.14229249],\n",
       "        [0.18577075, 0.19367589, 0.2055336 , ..., 0.11462451,\n",
       "         0.11857708, 0.11857708],\n",
       "        ...,\n",
       "        [0.98418972, 0.97628458, 0.95256917, ..., 0.743083  ,\n",
       "         0.743083  , 0.743083  ],\n",
       "        [0.98023715, 0.98023715, 0.98023715, ..., 0.74703557,\n",
       "         0.74703557, 0.74703557],\n",
       "        [0.97233202, 0.97628458, 0.99209486, ..., 0.74703557,\n",
       "         0.75098814, 0.75098814]],\n",
       "\n",
       "       [[0.62301587, 0.61904762, 0.61507937, ..., 0.47222222,\n",
       "         0.46825397, 0.45634921],\n",
       "        [0.62301587, 0.61904762, 0.61507937, ..., 0.47222222,\n",
       "         0.46031746, 0.45238095],\n",
       "        [0.62301587, 0.61904762, 0.61507937, ..., 0.47222222,\n",
       "         0.45238095, 0.44444444],\n",
       "        ...,\n",
       "        [0.71428571, 0.69047619, 0.61507937, ..., 0.26190476,\n",
       "         0.23412698, 0.18650794],\n",
       "        [0.72222222, 0.68650794, 0.6468254 , ..., 0.35714286,\n",
       "         0.23015873, 0.20634921],\n",
       "        [0.75      , 0.72619048, 0.69444444, ..., 0.61507937,\n",
       "         0.3452381 , 0.31349206]]])"
      ]
     },
     "execution_count": 6,
     "metadata": {},
     "output_type": "execute_result"
    }
   ],
   "source": [
    "data"
   ]
  },
  {
   "cell_type": "code",
   "execution_count": 7,
   "metadata": {},
   "outputs": [
    {
     "data": {
      "text/plain": [
       "(5341, 100, 100)"
      ]
     },
     "execution_count": 7,
     "metadata": {},
     "output_type": "execute_result"
    }
   ],
   "source": [
    "data.shape"
   ]
  },
  {
   "cell_type": "code",
   "execution_count": 8,
   "metadata": {},
   "outputs": [],
   "source": [
    "data=np.reshape(data,(data.shape[0],img_size,img_size,1))"
   ]
  },
  {
   "cell_type": "code",
   "execution_count": 9,
   "metadata": {},
   "outputs": [
    {
     "data": {
      "text/plain": [
       "(5341, 100, 100, 1)"
      ]
     },
     "execution_count": 9,
     "metadata": {},
     "output_type": "execute_result"
    }
   ],
   "source": [
    "data.shape"
   ]
  },
  {
   "cell_type": "code",
   "execution_count": 10,
   "metadata": {},
   "outputs": [],
   "source": [
    "new_target=np_utils.to_categorical(target)"
   ]
  },
  {
   "cell_type": "code",
   "execution_count": 11,
   "metadata": {},
   "outputs": [
    {
     "data": {
      "text/plain": [
       "array([[1., 0.],\n",
       "       [1., 0.],\n",
       "       [1., 0.],\n",
       "       ...,\n",
       "       [0., 1.],\n",
       "       [0., 1.],\n",
       "       [0., 1.]], dtype=float32)"
      ]
     },
     "execution_count": 11,
     "metadata": {},
     "output_type": "execute_result"
    }
   ],
   "source": [
    "new_target"
   ]
  },
  {
   "cell_type": "code",
   "execution_count": 12,
   "metadata": {},
   "outputs": [],
   "source": [
    "np.save('X',data)\n",
    "np.save('y',new_target)"
   ]
  }
 ],
 "metadata": {
  "kernelspec": {
   "display_name": "Python 3",
   "language": "python",
   "name": "python3"
  },
  "language_info": {
   "codemirror_mode": {
    "name": "ipython",
    "version": 3
   },
   "file_extension": ".py",
   "mimetype": "text/x-python",
   "name": "python",
   "nbconvert_exporter": "python",
   "pygments_lexer": "ipython3",
   "version": "3.7.7"
  }
 },
 "nbformat": 4,
 "nbformat_minor": 4
}
